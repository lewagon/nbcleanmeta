{
 "cells": [
  {
   "cell_type": "markdown",
   "id": "657c23bc",
   "metadata": {},
   "source": [
    "# Base notebook"
   ]
  },
  {
   "cell_type": "code",
   "execution_count": 6,
   "id": "a0f420aa",
   "metadata": {},
   "outputs": [
    {
     "data": {
      "text/plain": [
       "['/Users/krokrob/code/lewagon/nbcleanmeta/tests/notebooks',\n",
       " '/Users/krokrob/.pyenv/versions/3.8.12/lib/python38.zip',\n",
       " '/Users/krokrob/.pyenv/versions/3.8.12/lib/python3.8',\n",
       " '/Users/krokrob/.pyenv/versions/3.8.12/lib/python3.8/lib-dynload',\n",
       " '',\n",
       " '/Users/krokrob/.pyenv/versions/3.8.12/envs/lewagon3812/lib/python3.8/site-packages',\n",
       " '/Users/krokrob/code/lewagon/utils/nbcleanmeta',\n",
       " '/Users/krokrob/.pyenv/versions/3.8.12/envs/lewagon3812/lib/python3.8/site-packages/IPython/extensions',\n",
       " '/Users/krokrob/.ipython']"
      ]
     },
     "execution_count": 6,
     "metadata": {},
     "output_type": "execute_result"
    }
   ],
   "source": [
    "import sys\n",
    "\n",
    "sys.path"
   ]
  },
  {
   "cell_type": "code",
   "execution_count": null,
   "id": "901bcc13",
   "metadata": {},
   "outputs": [],
   "source": []
  },
  {
   "cell_type": "code",
   "execution_count": 7,
   "id": "884ee02a",
   "metadata": {},
   "outputs": [
    {
     "data": {
      "text/plain": [
       "False"
      ]
     },
     "execution_count": 7,
     "metadata": {},
     "output_type": "execute_result"
    }
   ],
   "source": [
    "bool([])"
   ]
  }
 ],
 "metadata": {
  "kernelspec": {
   "display_name": "Python 3 (ipykernel)",
   "language": "python",
   "name": "python3"
  },
  "language_info": {
   "codemirror_mode": {
    "name": "ipython",
    "version": 3
   },
   "file_extension": ".py",
   "mimetype": "text/x-python",
   "name": "python",
   "nbconvert_exporter": "python",
   "pygments_lexer": "ipython3",
   "version": "3.8.12"
  },
  "toc": {
   "base_numbering": 1,
   "nav_menu": {},
   "number_sections": true,
   "sideBar": true,
   "skip_h1_title": false,
   "title_cell": "Table of Contents",
   "title_sidebar": "Contents",
   "toc_cell": false,
   "toc_position": {},
   "toc_section_display": true,
   "toc_window_display": false
  }
 },
 "nbformat": 4,
 "nbformat_minor": 5
}
