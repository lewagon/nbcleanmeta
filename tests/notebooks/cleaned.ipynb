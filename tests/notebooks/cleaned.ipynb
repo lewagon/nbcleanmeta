{
 "cells": [
  {
   "cell_type": "markdown",
   "id": "657c23bc",
   "metadata": {},
   "source": [
    "# Base notebook"
   ]
  },
  {
   "cell_type": "code",
   "execution_count": null,
   "id": "a0f420aa",
   "metadata": {},
   "outputs": [
    {
     "data": {
      "text/plain": [
       "['/Users/krokrob/code/lewagon/nbcleanmeta/tests/Untitled Folder',\n",
       " '/Users/krokrob/.pyenv/versions/3.8.12/lib/python38.zip',\n",
       " '/Users/krokrob/.pyenv/versions/3.8.12/lib/python3.8',\n",
       " '/Users/krokrob/.pyenv/versions/3.8.12/lib/python3.8/lib-dynload',\n",
       " '',\n",
       " '/Users/krokrob/.pyenv/versions/3.8.12/envs/lewagon3812/lib/python3.8/site-packages',\n",
       " '/Users/krokrob/code/lewagon/utils/nbcleanmeta',\n",
       " '/Users/krokrob/.pyenv/versions/3.8.12/envs/lewagon3812/lib/python3.8/site-packages/IPython/extensions',\n",
       " '/Users/krokrob/.ipython']"
      ]
     },
     "execution_count": null,
     "metadata": {},
     "output_type": "execute_result"
    }
   ],
   "source": [
    "import sys\n",
    "\n",
    "sys.path"
   ]
  },
  {
   "cell_type": "code",
   "execution_count": null,
   "id": "901bcc13",
   "metadata": {},
   "outputs": [],
   "source": []
  }
 ],
 "metadata": {
  "kernelspec": {
   "display_name": "Python 3 (ipykernel)",
   "language": "python",
   "name": "python3"
  },
 },
 "nbformat": 4,
 "nbformat_minor": 5
}
